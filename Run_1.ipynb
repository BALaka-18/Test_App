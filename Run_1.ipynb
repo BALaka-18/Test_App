{
  "nbformat": 4,
  "nbformat_minor": 0,
  "metadata": {
    "colab": {
      "name": "Assignment_1.ipynb",
      "provenance": []
    },
    "kernelspec": {
      "name": "python3",
      "display_name": "Python 3"
    }
  },
  "cells": [
    {
      "cell_type": "code",
      "metadata": {
        "id": "dxzU5lIOq7ch",
        "colab_type": "code",
        "colab": {}
      },
      "source": [
        ""
      ],
      "execution_count": null,
      "outputs": []
    },
    {
      "cell_type": "code",
      "metadata": {
        "id": "tQ_Z-Y5ytJqL",
        "colab_type": "code",
        "colab": {
          "base_uri": "https://localhost:8080/",
          "height": 277
        },
        "outputId": "fb47f993-77ed-440b-b5ac-83befb2530a1"
      },
      "source": [
        "!pip install flask-ngrok"
      ],
      "execution_count": null,
      "outputs": [
        {
          "output_type": "stream",
          "text": [
            "Collecting flask-ngrok\n",
            "  Downloading https://files.pythonhosted.org/packages/af/6c/f54cb686ad1129e27d125d182f90f52b32f284e6c8df58c1bae54fa1adbc/flask_ngrok-0.0.25-py3-none-any.whl\n",
            "Requirement already satisfied: Flask>=0.8 in /usr/local/lib/python3.6/dist-packages (from flask-ngrok) (1.1.2)\n",
            "Requirement already satisfied: requests in /usr/local/lib/python3.6/dist-packages (from flask-ngrok) (2.23.0)\n",
            "Requirement already satisfied: Werkzeug>=0.15 in /usr/local/lib/python3.6/dist-packages (from Flask>=0.8->flask-ngrok) (1.0.1)\n",
            "Requirement already satisfied: click>=5.1 in /usr/local/lib/python3.6/dist-packages (from Flask>=0.8->flask-ngrok) (7.1.2)\n",
            "Requirement already satisfied: Jinja2>=2.10.1 in /usr/local/lib/python3.6/dist-packages (from Flask>=0.8->flask-ngrok) (2.11.2)\n",
            "Requirement already satisfied: itsdangerous>=0.24 in /usr/local/lib/python3.6/dist-packages (from Flask>=0.8->flask-ngrok) (1.1.0)\n",
            "Requirement already satisfied: idna<3,>=2.5 in /usr/local/lib/python3.6/dist-packages (from requests->flask-ngrok) (2.9)\n",
            "Requirement already satisfied: urllib3!=1.25.0,!=1.25.1,<1.26,>=1.21.1 in /usr/local/lib/python3.6/dist-packages (from requests->flask-ngrok) (1.24.3)\n",
            "Requirement already satisfied: chardet<4,>=3.0.2 in /usr/local/lib/python3.6/dist-packages (from requests->flask-ngrok) (3.0.4)\n",
            "Requirement already satisfied: certifi>=2017.4.17 in /usr/local/lib/python3.6/dist-packages (from requests->flask-ngrok) (2020.6.20)\n",
            "Requirement already satisfied: MarkupSafe>=0.23 in /usr/local/lib/python3.6/dist-packages (from Jinja2>=2.10.1->Flask>=0.8->flask-ngrok) (1.1.1)\n",
            "Installing collected packages: flask-ngrok\n",
            "Successfully installed flask-ngrok-0.0.25\n"
          ],
          "name": "stdout"
        }
      ]
    },
    {
      "cell_type": "code",
      "metadata": {
        "id": "BZ5OtHjbk6ZQ",
        "colab_type": "code",
        "colab": {
          "base_uri": "https://localhost:8080/",
          "height": 121
        },
        "outputId": "857aa940-3cbd-4d11-edec-71722d250ca6"
      },
      "source": [
        "!pip install gspread"
      ],
      "execution_count": null,
      "outputs": [
        {
          "output_type": "stream",
          "text": [
            "Requirement already satisfied: gspread in /usr/local/lib/python3.6/dist-packages (3.0.1)\n",
            "Requirement already satisfied: requests>=2.2.1 in /usr/local/lib/python3.6/dist-packages (from gspread) (2.23.0)\n",
            "Requirement already satisfied: idna<3,>=2.5 in /usr/local/lib/python3.6/dist-packages (from requests>=2.2.1->gspread) (2.9)\n",
            "Requirement already satisfied: chardet<4,>=3.0.2 in /usr/local/lib/python3.6/dist-packages (from requests>=2.2.1->gspread) (3.0.4)\n",
            "Requirement already satisfied: certifi>=2017.4.17 in /usr/local/lib/python3.6/dist-packages (from requests>=2.2.1->gspread) (2020.6.20)\n",
            "Requirement already satisfied: urllib3!=1.25.0,!=1.25.1,<1.26,>=1.21.1 in /usr/local/lib/python3.6/dist-packages (from requests>=2.2.1->gspread) (1.24.3)\n"
          ],
          "name": "stdout"
        }
      ]
    },
    {
      "cell_type": "code",
      "metadata": {
        "id": "6SxWI0TIcWRe",
        "colab_type": "code",
        "colab": {}
      },
      "source": [
        "from flask import Flask,render_template,url_for,request\n",
        "import requests\n",
        "import pandas as pd\n",
        "import threading\n",
        "from flask_ngrok import run_with_ngrok"
      ],
      "execution_count": null,
      "outputs": []
    },
    {
      "cell_type": "markdown",
      "metadata": {
        "id": "Uyi8_rwPjMzk",
        "colab_type": "text"
      },
      "source": [
        "## The frontend files are in my Drive : \n",
        "\n",
        "A. templates folder : https://drive.google.com/drive/folders/1-3cAhuiI-QopPPUKDzXOKo3N39DNK7T4?usp=sharing\n",
        "1. index.html - https://drive.google.com/file/d/1-E8tp8-p0iaVM8PQVIulNvESjAJHW6DO/view?usp=sharing\n",
        "2. predict.html - https://drive.google.com/file/d/1-MJeN3jN0W1GDTzF5HwSn3oiSsn9Mivo/view?usp=sharing\n",
        "\n",
        "B. CSV file(dataset) : https://drive.google.com/file/d/13_8fCDuFa4P0TQE213LMfomSdM1MvrHQ/view?usp=sharing\n",
        "\n",
        "\n",
        "## App screenshots :\n",
        "\n",
        "#### Home page -\n",
        "\n",
        "![SS 1](https://user-images.githubusercontent.com/49288068/86520949-d274cb80-be67-11ea-9002-c6a822c5c4b7.png)\n",
        "\n",
        "________________________________________________________________________________\n",
        "\n",
        "#### Options -\n",
        "\n",
        "![SS 2](https://user-images.githubusercontent.com/49288068/86520952-e8828c00-be67-11ea-9af7-73c6ff713203.png)\n",
        "\n",
        "________________________________________________________________________________\n",
        "\n",
        "#### For categories with number of images < 550 -\n",
        "\n",
        "![SS 3](https://user-images.githubusercontent.com/49288068/86520960-094ae180-be68-11ea-9fff-8aac8fb0d252.png)\n",
        "\n",
        "________________________________________________________________________________\n",
        "\n",
        "#### For categories with number of images > 550 -\n",
        "\n",
        "![SS 4](https://user-images.githubusercontent.com/49288068/86520972-339c9f00-be68-11ea-8bde-581d842e56f4.png)\n",
        "\n",
        "## The Backend Code :"
      ]
    },
    {
      "cell_type": "code",
      "metadata": {
        "id": "o9yYBcD0n3nI",
        "colab_type": "code",
        "colab": {}
      },
      "source": [
        "data = pd.read_csv('/content/drive/My Drive/dress - dress.csv')\n",
        "data['category'].replace('polka dot','polka_dot',inplace=True)\n",
        "dress_category = list(set(data.category.values))\n",
        "\n",
        "app = Flask(__name__,template_folder='drive/My Drive/templates')\n",
        "run_with_ngrok(app)\n",
        "\n",
        "@app.route(\"/\")\n",
        "def home():\n",
        "  return render_template('index.html',dress_category=dress_category)\n",
        "\n",
        "@app.route('/predict',methods=['POST'])\n",
        "def predict():\n",
        "  category = request.form.get('item')\n",
        "  links = sorted(list(data[data.category == category].image_url.values))\n",
        "  return render_template('predict.html',dress_category = dress_category,links = links)\n",
        "\n",
        "app.run()"
      ],
      "execution_count": null,
      "outputs": []
    },
    {
      "cell_type": "code",
      "metadata": {
        "id": "xGKFfuk6hMb6",
        "colab_type": "code",
        "colab": {}
      },
      "source": [
        ""
      ],
      "execution_count": null,
      "outputs": []
    }
  ]
}
